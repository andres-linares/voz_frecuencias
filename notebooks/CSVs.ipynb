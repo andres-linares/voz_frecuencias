{
 "cells": [
  {
   "cell_type": "code",
   "execution_count": 1,
   "metadata": {},
   "outputs": [],
   "source": [
    "import pandas as pd\n",
    "import seaborn as sns\n",
    "import matplotlib.pyplot as pyplot\n",
    "import numpy as np\n",
    "import pickle\n",
    "from sklearn.linear_model import LinearRegression\n",
    "from sklearn.svm import SVC\n",
    "from sklearn.tree import DecisionTreeClassifier\n",
    "from sklearn.ensemble import RandomForestClassifier\n",
    "from sklearn.model_selection import train_test_split\n",
    "from sklearn.model_selection import cross_val_score\n",
    "from sklearn.preprocessing import LabelEncoder\n",
    "from sklearn.metrics import classification_report\n",
    "from sklearn.metrics import confusion_matrix\n",
    "from sklearn import preprocessing"
   ]
  },
  {
   "cell_type": "code",
   "execution_count": 2,
   "metadata": {},
   "outputs": [],
   "source": [
    "andres_andres = pd.read_csv('grabaciones/andres/andres.csv', index_col=0)\n",
    "andres_abajo = pd.read_csv('grabaciones/andres/abajo.csv', index_col=0)\n",
    "andres_arriba = pd.read_csv('grabaciones/andres/arriba.csv', index_col=0)\n",
    "andres_izquierda = pd.read_csv('grabaciones/andres/izquierda.csv', index_col=0)\n",
    "andres_derecha = pd.read_csv('grabaciones/andres/derecha.csv', index_col=0)\n",
    "vanessa_vanessa = pd.read_csv('grabaciones/vanessa/vanessa.csv', index_col=0)\n",
    "vanessa_abajo = pd.read_csv('grabaciones/vanessa/abajo.csv', index_col=0)\n",
    "vanessa_arriba = pd.read_csv('grabaciones/vanessa/arriba.csv', index_col=0)\n",
    "vanessa_izquierda = pd.read_csv('grabaciones/vanessa/izquierda.csv', index_col=0)\n",
    "vanessa_derecha = pd.read_csv('grabaciones/vanessa/derecha.csv', index_col=0)\n",
    "\n",
    "pd.set_option('precision', 1)\n",
    "numero_estimadores = 500"
   ]
  },
  {
   "cell_type": "markdown",
   "metadata": {},
   "source": [
    "## Clasificaciones\n",
    "- Nombres: Clasificar entre Vanessa o Andrés.\n",
    "- Palabras de Andrés: Clasificar entre arriba, abajo, derecha e izquierda.\n",
    "- Palabras de Vanessa: Clasificar entre arriba, abajo, derecha e izquierda.\n",
    "\n",
    "## Clasificador completo\n",
    "Combina todos los dataframes en uno solo."
   ]
  },
  {
   "cell_type": "code",
   "execution_count": 3,
   "metadata": {
    "scrolled": false
   },
   "outputs": [
    {
     "data": {
      "text/plain": [
       "970"
      ]
     },
     "execution_count": 3,
     "metadata": {},
     "output_type": "execute_result"
    }
   ],
   "source": [
    "datos_todos = pd.concat([andres_andres, andres_abajo, andres_arriba, andres_derecha, andres_izquierda,\n",
    "                        vanessa_vanessa, vanessa_arriba, vanessa_abajo, vanessa_izquierda, vanessa_derecha]\n",
    "                        , ignore_index=True)\n",
    "len(datos_todos)"
   ]
  },
  {
   "cell_type": "code",
   "execution_count": 4,
   "metadata": {
    "scrolled": true
   },
   "outputs": [
    {
     "name": "stdout",
     "output_type": "stream",
     "text": [
      "Medias de todos los datos:\n",
      "\n",
      "                   20-100 Hz  100-200 Hz  200-300 Hz  300-400 Hz  400-500 Hz  \\\n",
      "Palabra                                                                        \n",
      "andres/abajo         16622.4     42052.3     19694.2     13061.9     19030.1   \n",
      "andres/andres        16545.0     34731.4     31022.9     24550.1     40597.8   \n",
      "andres/arriba        16899.1     47359.2     45605.7     32183.3     58067.5   \n",
      "andres/derecha       17581.2     42470.6     36733.4     31722.4     57158.2   \n",
      "andres/izquierda     15513.1     40574.0     48361.3     42433.5     67490.3   \n",
      "vanessa/abajo        28808.8     33061.1     39492.9     18790.7     29096.0   \n",
      "vanessa/arriba       36651.8     42662.8     39300.5     47940.0     49649.2   \n",
      "vanessa/derecha      33914.9     47303.8     33812.0     59254.0     36767.9   \n",
      "vanessa/izquierda    29994.1     42722.3     40637.6     37958.0     39732.0   \n",
      "vanessa/vanessa      31497.3     48024.0     34486.6     25880.7     25385.5   \n",
      "\n",
      "                   500-600 Hz  600-700 Hz  700-800 Hz  800-900 Hz  \\\n",
      "Palabra                                                             \n",
      "andres/abajo          26367.7     33897.1     38115.3     16348.2   \n",
      "andres/andres         22006.1     10078.5      8010.4      7152.5   \n",
      "andres/arriba         41304.8     28714.9     15609.4      6474.5   \n",
      "andres/derecha        35041.8     15637.7      6736.7      5003.4   \n",
      "andres/izquierda      46297.1     16496.8      7499.9      5060.6   \n",
      "vanessa/abajo         32697.6     54258.0     58170.8     80961.3   \n",
      "vanessa/arriba        40787.5     39929.0     29149.3     29337.4   \n",
      "vanessa/derecha       46403.8     17719.7     12334.9      9985.4   \n",
      "vanessa/izquierda     52615.7     21005.4     13306.3     10238.8   \n",
      "vanessa/vanessa       38775.5     42767.0     52385.6     24895.9   \n",
      "\n",
      "                   900-1000 Hz  1000-1100 Hz  1100-1200 Hz  1200-1300 Hz  \\\n",
      "Palabra                                                                    \n",
      "andres/abajo           25500.6       24252.4       15965.6       11555.5   \n",
      "andres/andres           6749.2        3868.3        3078.0        3638.6   \n",
      "andres/arriba           4958.8        5719.9       10647.5       12177.2   \n",
      "andres/derecha          2930.3        2688.0        3256.1        3273.9   \n",
      "andres/izquierda        3543.1        2827.7        3359.2        4113.4   \n",
      "vanessa/abajo          37526.2       19306.4       17998.3       16142.1   \n",
      "vanessa/arriba         24631.0       13563.8       11663.5       10625.9   \n",
      "vanessa/derecha        11046.8        7285.2        6671.3        6099.6   \n",
      "vanessa/izquierda       9767.0        6439.9        6190.2        5124.2   \n",
      "vanessa/vanessa        11029.1        7799.7        8198.7        6692.6   \n",
      "\n",
      "                   1300-1400 Hz  1400-1500 Hz  1500-1600 Hz  1600-1700 Hz  \\\n",
      "Palabra                                                                     \n",
      "andres/abajo             6815.5        3425.3        3534.4        2983.5   \n",
      "andres/andres            3727.3        5969.1        7971.2        9945.4   \n",
      "andres/arriba            9807.3        6974.7        6075.7        7226.7   \n",
      "andres/derecha           2823.3        3510.7        4769.7        5741.8   \n",
      "andres/izquierda         5112.7        6439.3        6868.2       10625.1   \n",
      "vanessa/abajo           18348.2       16173.6       12249.1       10146.3   \n",
      "vanessa/arriba          10221.5       13643.8       14067.1       18759.1   \n",
      "vanessa/derecha          6090.1        5746.5        5692.4        7007.9   \n",
      "vanessa/izquierda        5696.0        5933.2        6775.6       10608.7   \n",
      "vanessa/vanessa          8790.2        9876.1       16267.9       15613.8   \n",
      "\n",
      "                   1700-1800 Hz  1800-1900 Hz  1900-2000 Hz  \n",
      "Palabra                                                      \n",
      "andres/abajo             2284.6        2086.2        1616.6  \n",
      "andres/andres           10788.5       11012.4        6589.2  \n",
      "andres/arriba            8511.9       10860.0       10436.8  \n",
      "andres/derecha           6347.1        7887.0       10898.9  \n",
      "andres/izquierda         9034.2        8029.8        7616.4  \n",
      "vanessa/abajo            7033.8        7232.2        5848.6  \n",
      "vanessa/arriba          20326.3       19049.1       12698.5  \n",
      "vanessa/derecha          7458.4        9272.3        9623.5  \n",
      "vanessa/izquierda       12622.1       14420.0       10288.2  \n",
      "vanessa/vanessa         18224.7       18191.0       16988.6  \n",
      "\n",
      "\n",
      "Desviación estándar de todos los datos: \n",
      "\n",
      "                   20-100 Hz  100-200 Hz  200-300 Hz  300-400 Hz  400-500 Hz  \\\n",
      "Palabra                                                                        \n",
      "andres/abajo          2598.2      8892.6      3852.4      2268.2      3687.5   \n",
      "andres/andres        13252.1     10684.1      9880.7      3939.3     10503.0   \n",
      "andres/arriba         3494.2      5926.4      6530.2      3459.0      8178.8   \n",
      "andres/derecha        2954.9      9055.0      5511.3      5317.7      8702.1   \n",
      "andres/izquierda      2942.2      7018.6     10789.3      9069.3     11441.7   \n",
      "vanessa/abajo        12267.2     10432.2     17409.5      6291.2     16179.7   \n",
      "vanessa/arriba       16005.3     15746.0     13859.1     25563.6     31484.9   \n",
      "vanessa/derecha       9869.1     10546.3     12298.1     15690.3     23446.9   \n",
      "vanessa/izquierda     7086.6      8619.8     13586.9      8570.0     14499.7   \n",
      "vanessa/vanessa       9238.4     12458.5     14224.2      4919.9     13727.2   \n",
      "\n",
      "                   500-600 Hz  600-700 Hz  700-800 Hz  800-900 Hz  \\\n",
      "Palabra                                                             \n",
      "andres/abajo           6276.6      5020.4      7634.9      2914.5   \n",
      "andres/andres          5231.9      3255.1      4621.8      3454.9   \n",
      "andres/arriba          6474.6      6841.3      5294.0      1346.0   \n",
      "andres/derecha         6519.1      3194.6      1386.6      1275.5   \n",
      "andres/izquierda       7115.0      3019.9      1764.6      1265.3   \n",
      "vanessa/abajo         18735.1     38544.8     36874.3     47232.0   \n",
      "vanessa/arriba        19205.8     28278.9     15661.4     23120.7   \n",
      "vanessa/derecha       23183.4     10841.3      3660.4      3704.1   \n",
      "vanessa/izquierda     26428.0     10834.3      5015.7      4155.5   \n",
      "vanessa/vanessa       11592.7     25678.4     27796.3     15257.3   \n",
      "\n",
      "                   900-1000 Hz  1000-1100 Hz  1100-1200 Hz  1200-1300 Hz  \\\n",
      "Palabra                                                                    \n",
      "andres/abajo            4969.9        4384.1        3942.8        4061.6   \n",
      "andres/andres           3205.9        1431.2        1662.4        2937.5   \n",
      "andres/arriba           1312.6        1047.1        2496.7        3004.2   \n",
      "andres/derecha           616.5         491.9         725.7         938.1   \n",
      "andres/izquierda        1087.1         793.5         782.9         938.4   \n",
      "vanessa/abajo          17037.9        6920.7        7146.6        9000.7   \n",
      "vanessa/arriba         11539.2        5749.8        4356.5        4236.1   \n",
      "vanessa/derecha         3764.5        2786.7        2726.8        4382.8   \n",
      "vanessa/izquierda       3196.1        2101.3        1975.2        1851.4   \n",
      "vanessa/vanessa         3668.4        2727.8        3326.5        2121.1   \n",
      "\n",
      "                   1300-1400 Hz  1400-1500 Hz  1500-1600 Hz  1600-1700 Hz  \\\n",
      "Palabra                                                                     \n",
      "andres/abajo             2193.4         753.6         655.7         527.5   \n",
      "andres/andres            2597.4        4559.1        4854.4        5561.8   \n",
      "andres/arriba            2577.7        1909.6        1447.0        1788.5   \n",
      "andres/derecha            679.6        1034.8        1573.3        1241.2   \n",
      "andres/izquierda         1192.5        1721.4        1702.7        2844.4   \n",
      "vanessa/abajo            9164.2        8206.6        6493.4        5895.8   \n",
      "vanessa/arriba           4225.5        6558.3        7428.6       12148.2   \n",
      "vanessa/derecha          4244.9        3654.0        2787.2        4002.0   \n",
      "vanessa/izquierda        4000.5        3417.5        3749.8        6503.4   \n",
      "vanessa/vanessa          3678.9        3746.1        7802.4        7167.8   \n",
      "\n",
      "                   1700-1800 Hz  1800-1900 Hz  1900-2000 Hz  \n",
      "Palabra                                                      \n",
      "andres/abajo              454.7         412.4         377.0  \n",
      "andres/andres            5533.8        6010.9        4020.3  \n",
      "andres/arriba            2245.1        2989.7        2696.8  \n",
      "andres/derecha           1226.1        1739.6        2689.0  \n",
      "andres/izquierda         2480.3        2478.5        2520.6  \n",
      "vanessa/abajo            3472.4        4033.1        3152.4  \n",
      "vanessa/arriba          15466.1       12767.0        7312.9  \n",
      "vanessa/derecha          3707.3        6169.5        4677.7  \n",
      "vanessa/izquierda        7895.3        8361.6        5159.0  \n",
      "vanessa/vanessa          8038.2        9186.3        8971.6  \n"
     ]
    }
   ],
   "source": [
    "medias_totales = datos_todos.groupby(datos_todos['Palabra']).mean()\n",
    "std_totales = datos_todos.groupby(datos_todos['Palabra']).std()\n",
    "print(\"Medias de todos los datos:\\n\")\n",
    "print(medias_totales)\n",
    "print(\"\\n\\nDesviación estándar de todos los datos: \\n\")\n",
    "print(std_totales)"
   ]
  },
  {
   "cell_type": "markdown",
   "metadata": {},
   "source": [
    "### Poniendo a prueba el clasificador"
   ]
  },
  {
   "cell_type": "code",
   "execution_count": 5,
   "metadata": {},
   "outputs": [],
   "source": [
    "datos_todos_x = datos_todos.iloc[:, :-1]\n",
    "datos_todos_y = datos_todos['Palabra']\n",
    "\n",
    "le = LabelEncoder()\n",
    "le.fit(datos_todos_y)\n",
    "#datos_todos_y = le.transform(datos_todos_y)\n",
    "\n",
    "x_train, x_test, y_train, y_test = train_test_split(datos_todos_x, datos_todos_y)"
   ]
  },
  {
   "cell_type": "code",
   "execution_count": 6,
   "metadata": {},
   "outputs": [],
   "source": [
    "#clf_lr = LinearRegression()\n",
    "#clf_lr.fit(x_train, y_train)\n",
    "#predicted = clf_lr.predict(x_test).astype(int)\n",
    "\n",
    "#clf_svc = SVC()\n",
    "#clf_svc.fit(x_train, y_train)\n",
    "#predicted = clf_svc.predict(x_test)\n",
    "\n",
    "#clf_dt = DecisionTreeClassifier()\n",
    "#clf_dt.fit(x_train, y_train)\n",
    "#predicted = clf_dt.predict(x_test)\n",
    "\n",
    "clf_rf = RandomForestClassifier(n_estimators=numero_estimadores)\n",
    "clf_rf.fit(x_train, y_train)\n",
    "predicted = clf_rf.predict(x_test)"
   ]
  },
  {
   "cell_type": "code",
   "execution_count": 7,
   "metadata": {},
   "outputs": [
    {
     "name": "stdout",
     "output_type": "stream",
     "text": [
      "Precision: 0.94 (+/- 0.09)\n",
      "Precision: 0.94 (+/- 0.07)\n"
     ]
    }
   ],
   "source": [
    "datos_todos_x_escalados = preprocessing.scale(datos_todos_x)\n",
    "\n",
    "clf_rf = RandomForestClassifier(n_estimators=numero_estimadores)\n",
    "scores = cross_val_score(clf_rf, datos_todos_x_escalados, datos_todos_y, cv=10)\n",
    "scores2 = cross_val_score(clf_rf, datos_todos_x, datos_todos_y, cv=10)\n",
    "print(\"Precision: %0.2f (+/- %0.2f)\" % (scores.mean(), scores.std() * 2))\n",
    "print(\"Precision: %0.2f (+/- %0.2f)\" % (scores2.mean(), scores2.std() * 2))"
   ]
  },
  {
   "cell_type": "code",
   "execution_count": 8,
   "metadata": {},
   "outputs": [
    {
     "name": "stdout",
     "output_type": "stream",
     "text": [
      "                   precision    recall  f1-score   support\n",
      "\n",
      "     andres/abajo       1.00      1.00      1.00        23\n",
      "    andres/andres       0.87      1.00      0.93        13\n",
      "    andres/arriba       1.00      1.00      1.00        22\n",
      "   andres/derecha       0.86      0.93      0.89        27\n",
      " andres/izquierda       0.96      0.84      0.90        31\n",
      "    vanessa/abajo       1.00      1.00      1.00        31\n",
      "   vanessa/arriba       0.92      0.92      0.92        26\n",
      "  vanessa/derecha       0.88      0.92      0.90        25\n",
      "vanessa/izquierda       0.96      0.89      0.93        28\n",
      "  vanessa/vanessa       0.94      1.00      0.97        17\n",
      "\n",
      "      avg / total       0.94      0.94      0.94       243\n",
      "\n"
     ]
    }
   ],
   "source": [
    "print(classification_report(y_test, predicted))"
   ]
  },
  {
   "cell_type": "code",
   "execution_count": 9,
   "metadata": {},
   "outputs": [
    {
     "name": "stdout",
     "output_type": "stream",
     "text": [
      "[[23  0  0  0  0  0  0  0  0  0]\n",
      " [ 0 13  0  0  0  0  0  0  0  0]\n",
      " [ 0  0 22  0  0  0  0  0  0  0]\n",
      " [ 0  1  0 25  1  0  0  0  0  0]\n",
      " [ 0  0  0  4 26  0  0  1  0  0]\n",
      " [ 0  0  0  0  0 31  0  0  0  0]\n",
      " [ 0  1  0  0  0  0 24  0  0  1]\n",
      " [ 0  0  0  0  0  0  1 23  1  0]\n",
      " [ 0  0  0  0  0  0  1  2 25  0]\n",
      " [ 0  0  0  0  0  0  0  0  0 17]]\n"
     ]
    }
   ],
   "source": [
    "print(confusion_matrix(y_test, predicted))"
   ]
  },
  {
   "cell_type": "markdown",
   "metadata": {},
   "source": [
    "## Clasificador nombres\n",
    "Combina los dataframes de los nombres en uno solo"
   ]
  },
  {
   "cell_type": "code",
   "execution_count": 10,
   "metadata": {
    "scrolled": true
   },
   "outputs": [],
   "source": [
    "datos_nombres = pd.concat([andres_andres, vanessa_vanessa], ignore_index=True)"
   ]
  },
  {
   "cell_type": "code",
   "execution_count": 11,
   "metadata": {
    "scrolled": true
   },
   "outputs": [
    {
     "name": "stdout",
     "output_type": "stream",
     "text": [
      "Media de los nombres:\n",
      "\n",
      "                 20-100 Hz  100-200 Hz  200-300 Hz  300-400 Hz  400-500 Hz  \\\n",
      "Palabra                                                                      \n",
      "andres/andres      16545.0     34731.4     31022.9     24550.1     40597.8   \n",
      "vanessa/vanessa    31497.3     48024.0     34486.6     25880.7     25385.5   \n",
      "\n",
      "                 500-600 Hz  600-700 Hz  700-800 Hz  800-900 Hz  900-1000 Hz  \\\n",
      "Palabra                                                                        \n",
      "andres/andres       22006.1     10078.5      8010.4      7152.5       6749.2   \n",
      "vanessa/vanessa     38775.5     42767.0     52385.6     24895.9      11029.1   \n",
      "\n",
      "                 1000-1100 Hz  1100-1200 Hz  1200-1300 Hz  1300-1400 Hz  \\\n",
      "Palabra                                                                   \n",
      "andres/andres          3868.3        3078.0        3638.6        3727.3   \n",
      "vanessa/vanessa        7799.7        8198.7        6692.6        8790.2   \n",
      "\n",
      "                 1400-1500 Hz  1500-1600 Hz  1600-1700 Hz  1700-1800 Hz  \\\n",
      "Palabra                                                                   \n",
      "andres/andres          5969.1        7971.2        9945.4       10788.5   \n",
      "vanessa/vanessa        9876.1       16267.9       15613.8       18224.7   \n",
      "\n",
      "                 1800-1900 Hz  1900-2000 Hz  \n",
      "Palabra                                      \n",
      "andres/andres         11012.4        6589.2  \n",
      "vanessa/vanessa       18191.0       16988.6  \n",
      "\n",
      "\n",
      "Desviación estándar de los nombres:\n",
      "\n",
      "                 20-100 Hz  100-200 Hz  200-300 Hz  300-400 Hz  400-500 Hz  \\\n",
      "Palabra                                                                      \n",
      "andres/andres      13252.1     10684.1      9880.7      3939.3     10503.0   \n",
      "vanessa/vanessa     9238.4     12458.5     14224.2      4919.9     13727.2   \n",
      "\n",
      "                 500-600 Hz  600-700 Hz  700-800 Hz  800-900 Hz  900-1000 Hz  \\\n",
      "Palabra                                                                        \n",
      "andres/andres        5231.9      3255.1      4621.8      3454.9       3205.9   \n",
      "vanessa/vanessa     11592.7     25678.4     27796.3     15257.3       3668.4   \n",
      "\n",
      "                 1000-1100 Hz  1100-1200 Hz  1200-1300 Hz  1300-1400 Hz  \\\n",
      "Palabra                                                                   \n",
      "andres/andres          1431.2        1662.4        2937.5        2597.4   \n",
      "vanessa/vanessa        2727.8        3326.5        2121.1        3678.9   \n",
      "\n",
      "                 1400-1500 Hz  1500-1600 Hz  1600-1700 Hz  1700-1800 Hz  \\\n",
      "Palabra                                                                   \n",
      "andres/andres          4559.1        4854.4        5561.8        5533.8   \n",
      "vanessa/vanessa        3746.1        7802.4        7167.8        8038.2   \n",
      "\n",
      "                 1800-1900 Hz  1900-2000 Hz  \n",
      "Palabra                                      \n",
      "andres/andres          6010.9        4020.3  \n",
      "vanessa/vanessa        9186.3        8971.6  \n"
     ]
    }
   ],
   "source": [
    "medias_nombres = datos_nombres.groupby(datos_nombres['Palabra']).mean()\n",
    "std_nombres = datos_nombres.groupby(datos_nombres['Palabra']).std()\n",
    "print(\"Media de los nombres:\\n\")\n",
    "print(medias_nombres)\n",
    "print(\"\\n\\nDesviación estándar de los nombres:\\n\")\n",
    "print(std_nombres)"
   ]
  },
  {
   "cell_type": "markdown",
   "metadata": {},
   "source": [
    "### Poniendo a prueba el clasificador"
   ]
  },
  {
   "cell_type": "code",
   "execution_count": 12,
   "metadata": {},
   "outputs": [],
   "source": [
    "datos_nombres_x = datos_nombres.iloc[:, :-1]\n",
    "datos_nombres_y = datos_nombres['Palabra']\n",
    "\n",
    "le = LabelEncoder()\n",
    "le.fit(datos_nombres_y)\n",
    "#datos_nombres_y = le.transform(datos_nombres_y)\n",
    "\n",
    "x_train, x_test, y_train, y_test = train_test_split(datos_nombres_x, datos_nombres_y)"
   ]
  },
  {
   "cell_type": "code",
   "execution_count": 13,
   "metadata": {},
   "outputs": [],
   "source": [
    "#clf_lr = LinearRegression()\n",
    "#clf_lr.fit(x_train, y_train)\n",
    "#predicted = clf_lr.predict(x_test).astype(int)\n",
    "\n",
    "#clf_svc = SVC()\n",
    "#clf_svc.fit(x_train, y_train)\n",
    "#predicted = clf_svc.predict(x_test)\n",
    "\n",
    "#clf_dt = DecisionTreeClassifier()\n",
    "#clf_dt.fit(x_train, y_train)\n",
    "#predicted = clf_dt.predict(x_test)\n",
    "\n",
    "clf_rf = RandomForestClassifier(n_estimators=numero_estimadores)\n",
    "clf_rf.fit(x_train, y_train)\n",
    "predicted = clf_rf.predict(x_test)"
   ]
  },
  {
   "cell_type": "code",
   "execution_count": 14,
   "metadata": {},
   "outputs": [
    {
     "name": "stdout",
     "output_type": "stream",
     "text": [
      "Precision: 0.91 (+/- 0.30)\n"
     ]
    }
   ],
   "source": [
    "clf_rf = RandomForestClassifier(n_estimators=numero_estimadores)\n",
    "scores = cross_val_score(clf_rf, datos_nombres_x, datos_nombres_y, cv=5)\n",
    "print(\"Precision: %0.2f (+/- %0.2f)\" % (scores.mean(), scores.std() * 2))"
   ]
  },
  {
   "cell_type": "code",
   "execution_count": 15,
   "metadata": {},
   "outputs": [
    {
     "name": "stdout",
     "output_type": "stream",
     "text": [
      "                 precision    recall  f1-score   support\n",
      "\n",
      "  andres/andres       0.96      1.00      0.98        22\n",
      "vanessa/vanessa       1.00      0.95      0.98        21\n",
      "\n",
      "    avg / total       0.98      0.98      0.98        43\n",
      "\n"
     ]
    }
   ],
   "source": [
    "print(classification_report(y_test, predicted))"
   ]
  },
  {
   "cell_type": "code",
   "execution_count": 16,
   "metadata": {},
   "outputs": [
    {
     "name": "stdout",
     "output_type": "stream",
     "text": [
      "[[22  0]\n",
      " [ 1 20]]\n"
     ]
    }
   ],
   "source": [
    "print(confusion_matrix(y_test, predicted))"
   ]
  },
  {
   "cell_type": "markdown",
   "metadata": {},
   "source": [
    "## Clasificador palabras Andrés\n",
    "Combina todos los dataframes que contienen palabras dichas por Andrés."
   ]
  },
  {
   "cell_type": "code",
   "execution_count": 17,
   "metadata": {
    "scrolled": false
   },
   "outputs": [
    {
     "name": "stdout",
     "output_type": "stream",
     "text": [
      "                 100-200 Hz                                              \\\n",
      "                      count     mean     std      min      25%      50%   \n",
      "Palabra                                                                   \n",
      "andres/abajo          100.0  42052.3  8892.6  23506.1  34860.5  41037.5   \n",
      "andres/arriba         100.0  47359.2  5926.4  34885.2  42958.0  47338.2   \n",
      "andres/derecha        100.0  42470.6  9055.0  25757.9  36569.0  41553.7   \n",
      "andres/izquierda      100.0  40574.0  7018.6  23789.5  36271.0  40926.6   \n",
      "\n",
      "                                   1000-1100 Hz            ...    800-900 Hz  \\\n",
      "                      75%      max        count     mean   ...           75%   \n",
      "Palabra                                                    ...                 \n",
      "andres/abajo      48057.2  65863.3        100.0  24252.4   ...       18176.3   \n",
      "andres/arriba     51945.5  62062.8        100.0   5719.9   ...        7062.3   \n",
      "andres/derecha    46394.3  77259.1        100.0   2688.0   ...        5797.9   \n",
      "andres/izquierda  45832.8  55167.3        100.0   2827.7   ...        5803.2   \n",
      "\n",
      "                          900-1000 Hz                                     \\\n",
      "                      max       count     mean     std      min      25%   \n",
      "Palabra                                                                    \n",
      "andres/abajo      25007.2       100.0  25500.6  4969.9  15599.9  21532.5   \n",
      "andres/arriba     10406.0       100.0   4958.8  1312.6   3150.4   4238.0   \n",
      "andres/derecha    10476.0       100.0   2930.3   616.5   1714.9   2536.7   \n",
      "andres/izquierda  11609.0       100.0   3543.1  1087.1   2185.6   2935.0   \n",
      "\n",
      "                                             \n",
      "                      50%      75%      max  \n",
      "Palabra                                      \n",
      "andres/abajo      24977.5  29470.9  38316.9  \n",
      "andres/arriba      4786.7   5462.0  15358.2  \n",
      "andres/derecha     2869.9   3368.2   4485.4  \n",
      "andres/izquierda   3334.0   3984.9  11611.9  \n",
      "\n",
      "[4 rows x 160 columns]\n"
     ]
    }
   ],
   "source": [
    "datos_andres = pd.concat([andres_abajo, andres_arriba, andres_izquierda, andres_derecha], ignore_index=True)\n",
    "print(datos_andres.groupby(datos_andres['Palabra']).describe())"
   ]
  },
  {
   "cell_type": "code",
   "execution_count": 18,
   "metadata": {
    "scrolled": true
   },
   "outputs": [
    {
     "name": "stdout",
     "output_type": "stream",
     "text": [
      "Media de las palabras dichas por Andrés:\n",
      "\n",
      "                  20-100 Hz  100-200 Hz  200-300 Hz  300-400 Hz  400-500 Hz  \\\n",
      "Palabra                                                                       \n",
      "andres/abajo        16622.4     42052.3     19694.2     13061.9     19030.1   \n",
      "andres/arriba       16899.1     47359.2     45605.7     32183.3     58067.5   \n",
      "andres/derecha      17581.2     42470.6     36733.4     31722.4     57158.2   \n",
      "andres/izquierda    15513.1     40574.0     48361.3     42433.5     67490.3   \n",
      "\n",
      "                  500-600 Hz  600-700 Hz  700-800 Hz  800-900 Hz  900-1000 Hz  \\\n",
      "Palabra                                                                         \n",
      "andres/abajo         26367.7     33897.1     38115.3     16348.2      25500.6   \n",
      "andres/arriba        41304.8     28714.9     15609.4      6474.5       4958.8   \n",
      "andres/derecha       35041.8     15637.7      6736.7      5003.4       2930.3   \n",
      "andres/izquierda     46297.1     16496.8      7499.9      5060.6       3543.1   \n",
      "\n",
      "                  1000-1100 Hz  1100-1200 Hz  1200-1300 Hz  1300-1400 Hz  \\\n",
      "Palabra                                                                    \n",
      "andres/abajo           24252.4       15965.6       11555.5        6815.5   \n",
      "andres/arriba           5719.9       10647.5       12177.2        9807.3   \n",
      "andres/derecha          2688.0        3256.1        3273.9        2823.3   \n",
      "andres/izquierda        2827.7        3359.2        4113.4        5112.7   \n",
      "\n",
      "                  1400-1500 Hz  1500-1600 Hz  1600-1700 Hz  1700-1800 Hz  \\\n",
      "Palabra                                                                    \n",
      "andres/abajo            3425.3        3534.4        2983.5        2284.6   \n",
      "andres/arriba           6974.7        6075.7        7226.7        8511.9   \n",
      "andres/derecha          3510.7        4769.7        5741.8        6347.1   \n",
      "andres/izquierda        6439.3        6868.2       10625.1        9034.2   \n",
      "\n",
      "                  1800-1900 Hz  1900-2000 Hz  \n",
      "Palabra                                       \n",
      "andres/abajo            2086.2        1616.6  \n",
      "andres/arriba          10860.0       10436.8  \n",
      "andres/derecha          7887.0       10898.9  \n",
      "andres/izquierda        8029.8        7616.4  \n",
      "\n",
      "\n",
      "Desviación estándar de las palabras dichas por Andrés:\n",
      "\n",
      "                  20-100 Hz  100-200 Hz  200-300 Hz  300-400 Hz  400-500 Hz  \\\n",
      "Palabra                                                                       \n",
      "andres/abajo         2598.2      8892.6      3852.4      2268.2      3687.5   \n",
      "andres/arriba        3494.2      5926.4      6530.2      3459.0      8178.8   \n",
      "andres/derecha       2954.9      9055.0      5511.3      5317.7      8702.1   \n",
      "andres/izquierda     2942.2      7018.6     10789.3      9069.3     11441.7   \n",
      "\n",
      "                  500-600 Hz  600-700 Hz  700-800 Hz  800-900 Hz  900-1000 Hz  \\\n",
      "Palabra                                                                         \n",
      "andres/abajo          6276.6      5020.4      7634.9      2914.5       4969.9   \n",
      "andres/arriba         6474.6      6841.3      5294.0      1346.0       1312.6   \n",
      "andres/derecha        6519.1      3194.6      1386.6      1275.5        616.5   \n",
      "andres/izquierda      7115.0      3019.9      1764.6      1265.3       1087.1   \n",
      "\n",
      "                  1000-1100 Hz  1100-1200 Hz  1200-1300 Hz  1300-1400 Hz  \\\n",
      "Palabra                                                                    \n",
      "andres/abajo            4384.1        3942.8        4061.6        2193.4   \n",
      "andres/arriba           1047.1        2496.7        3004.2        2577.7   \n",
      "andres/derecha           491.9         725.7         938.1         679.6   \n",
      "andres/izquierda         793.5         782.9         938.4        1192.5   \n",
      "\n",
      "                  1400-1500 Hz  1500-1600 Hz  1600-1700 Hz  1700-1800 Hz  \\\n",
      "Palabra                                                                    \n",
      "andres/abajo             753.6         655.7         527.5         454.7   \n",
      "andres/arriba           1909.6        1447.0        1788.5        2245.1   \n",
      "andres/derecha          1034.8        1573.3        1241.2        1226.1   \n",
      "andres/izquierda        1721.4        1702.7        2844.4        2480.3   \n",
      "\n",
      "                  1800-1900 Hz  1900-2000 Hz  \n",
      "Palabra                                       \n",
      "andres/abajo             412.4         377.0  \n",
      "andres/arriba           2989.7        2696.8  \n",
      "andres/derecha          1739.6        2689.0  \n",
      "andres/izquierda        2478.5        2520.6  \n"
     ]
    }
   ],
   "source": [
    "medias_andres = datos_andres.groupby(datos_andres['Palabra']).mean()\n",
    "std_andres = datos_andres.groupby(datos_andres['Palabra']).std()\n",
    "print(\"Media de las palabras dichas por Andrés:\\n\")\n",
    "print(medias_andres)\n",
    "print(\"\\n\\nDesviación estándar de las palabras dichas por Andrés:\\n\")\n",
    "print(std_andres)"
   ]
  },
  {
   "cell_type": "markdown",
   "metadata": {},
   "source": [
    "### Poniendo a prueba el clasificador"
   ]
  },
  {
   "cell_type": "code",
   "execution_count": 19,
   "metadata": {},
   "outputs": [],
   "source": [
    "datos_andres_x = datos_andres.iloc[:, :-1]\n",
    "datos_andres_y = datos_andres['Palabra']\n",
    "\n",
    "le = LabelEncoder()\n",
    "le.fit(datos_andres_y)\n",
    "#datos_nombres_y = le.transform(datos_nombres_y)\n",
    "\n",
    "x_train, x_test, y_train, y_test = train_test_split(datos_andres_x, datos_andres_y)"
   ]
  },
  {
   "cell_type": "code",
   "execution_count": 20,
   "metadata": {},
   "outputs": [],
   "source": [
    "#clf_lr = LinearRegression()\n",
    "#clf_lr.fit(x_train, y_train)\n",
    "#predicted = clf_lr.predict(x_test).astype(int)\n",
    "\n",
    "#clf_svc = SVC()\n",
    "#clf_svc.fit(x_train, y_train)\n",
    "#predicted = clf_svc.predict(x_test)\n",
    "\n",
    "#clf_dt = DecisionTreeClassifier()\n",
    "#clf_dt.fit(x_train, y_train)\n",
    "#predicted = clf_dt.predict(x_test)\n",
    "\n",
    "clf_rf = RandomForestClassifier(n_estimators=numero_estimadores)\n",
    "clf_rf.fit(x_train, y_train)\n",
    "predicted = clf_rf.predict(x_test)"
   ]
  },
  {
   "cell_type": "code",
   "execution_count": 21,
   "metadata": {},
   "outputs": [
    {
     "name": "stdout",
     "output_type": "stream",
     "text": [
      "Precision: 0.98 (+/- 0.14)\n"
     ]
    }
   ],
   "source": [
    "clf_rf = RandomForestClassifier(n_estimators=numero_estimadores)\n",
    "scores = cross_val_score(clf_rf, datos_andres_x, datos_andres_y, cv=10)\n",
    "print(\"Precision: %0.2f (+/- %0.2f)\" % (scores.mean(), scores.std() * 2))"
   ]
  },
  {
   "cell_type": "code",
   "execution_count": 22,
   "metadata": {},
   "outputs": [
    {
     "name": "stdout",
     "output_type": "stream",
     "text": [
      "                  precision    recall  f1-score   support\n",
      "\n",
      "    andres/abajo       1.00      1.00      1.00        29\n",
      "   andres/arriba       1.00      1.00      1.00        26\n",
      "  andres/derecha       0.94      1.00      0.97        29\n",
      "andres/izquierda       1.00      0.88      0.93        16\n",
      "\n",
      "     avg / total       0.98      0.98      0.98       100\n",
      "\n"
     ]
    }
   ],
   "source": [
    "print(classification_report(y_test, predicted))"
   ]
  },
  {
   "cell_type": "code",
   "execution_count": 23,
   "metadata": {},
   "outputs": [
    {
     "name": "stdout",
     "output_type": "stream",
     "text": [
      "[[29  0  0  0]\n",
      " [ 0 26  0  0]\n",
      " [ 0  0 29  0]\n",
      " [ 0  0  2 14]]\n"
     ]
    }
   ],
   "source": [
    "print(confusion_matrix(y_test, predicted))"
   ]
  },
  {
   "cell_type": "markdown",
   "metadata": {},
   "source": [
    "## Clasificador palabras Vanessa\n",
    "Combina todos los dataframes que contienen palabras dichas por Vanessa."
   ]
  },
  {
   "cell_type": "code",
   "execution_count": 24,
   "metadata": {
    "scrolled": true
   },
   "outputs": [],
   "source": [
    "datos_vanessa = pd.concat([vanessa_abajo, vanessa_arriba, vanessa_izquierda, vanessa_derecha], ignore_index=True)"
   ]
  },
  {
   "cell_type": "code",
   "execution_count": 25,
   "metadata": {
    "scrolled": true
   },
   "outputs": [
    {
     "name": "stdout",
     "output_type": "stream",
     "text": [
      "Media de las palabras dichas por Vanessa:\n",
      "\n",
      "                   20-100 Hz  100-200 Hz  200-300 Hz  300-400 Hz  400-500 Hz  \\\n",
      "Palabra                                                                        \n",
      "vanessa/abajo        28808.8     33061.1     39492.9     18790.7     29096.0   \n",
      "vanessa/arriba       36651.8     42662.8     39300.5     47940.0     49649.2   \n",
      "vanessa/derecha      33914.9     47303.8     33812.0     59254.0     36767.9   \n",
      "vanessa/izquierda    29994.1     42722.3     40637.6     37958.0     39732.0   \n",
      "\n",
      "                   500-600 Hz  600-700 Hz  700-800 Hz  800-900 Hz  \\\n",
      "Palabra                                                             \n",
      "vanessa/abajo         32697.6     54258.0     58170.8     80961.3   \n",
      "vanessa/arriba        40787.5     39929.0     29149.3     29337.4   \n",
      "vanessa/derecha       46403.8     17719.7     12334.9      9985.4   \n",
      "vanessa/izquierda     52615.7     21005.4     13306.3     10238.8   \n",
      "\n",
      "                   900-1000 Hz  1000-1100 Hz  1100-1200 Hz  1200-1300 Hz  \\\n",
      "Palabra                                                                    \n",
      "vanessa/abajo          37526.2       19306.4       17998.3       16142.1   \n",
      "vanessa/arriba         24631.0       13563.8       11663.5       10625.9   \n",
      "vanessa/derecha        11046.8        7285.2        6671.3        6099.6   \n",
      "vanessa/izquierda       9767.0        6439.9        6190.2        5124.2   \n",
      "\n",
      "                   1300-1400 Hz  1400-1500 Hz  1500-1600 Hz  1600-1700 Hz  \\\n",
      "Palabra                                                                     \n",
      "vanessa/abajo           18348.2       16173.6       12249.1       10146.3   \n",
      "vanessa/arriba          10221.5       13643.8       14067.1       18759.1   \n",
      "vanessa/derecha          6090.1        5746.5        5692.4        7007.9   \n",
      "vanessa/izquierda        5696.0        5933.2        6775.6       10608.7   \n",
      "\n",
      "                   1700-1800 Hz  1800-1900 Hz  1900-2000 Hz  \n",
      "Palabra                                                      \n",
      "vanessa/abajo            7033.8        7232.2        5848.6  \n",
      "vanessa/arriba          20326.3       19049.1       12698.5  \n",
      "vanessa/derecha          7458.4        9272.3        9623.5  \n",
      "vanessa/izquierda       12622.1       14420.0       10288.2  \n",
      "\n",
      "\n",
      "Desviación estándar de las palabras dichas por Vanessa:\n",
      "\n",
      "                   20-100 Hz  100-200 Hz  200-300 Hz  300-400 Hz  400-500 Hz  \\\n",
      "Palabra                                                                        \n",
      "vanessa/abajo        12267.2     10432.2     17409.5      6291.2     16179.7   \n",
      "vanessa/arriba       16005.3     15746.0     13859.1     25563.6     31484.9   \n",
      "vanessa/derecha       9869.1     10546.3     12298.1     15690.3     23446.9   \n",
      "vanessa/izquierda     7086.6      8619.8     13586.9      8570.0     14499.7   \n",
      "\n",
      "                   500-600 Hz  600-700 Hz  700-800 Hz  800-900 Hz  \\\n",
      "Palabra                                                             \n",
      "vanessa/abajo         18735.1     38544.8     36874.3     47232.0   \n",
      "vanessa/arriba        19205.8     28278.9     15661.4     23120.7   \n",
      "vanessa/derecha       23183.4     10841.3      3660.4      3704.1   \n",
      "vanessa/izquierda     26428.0     10834.3      5015.7      4155.5   \n",
      "\n",
      "                   900-1000 Hz  1000-1100 Hz  1100-1200 Hz  1200-1300 Hz  \\\n",
      "Palabra                                                                    \n",
      "vanessa/abajo          17037.9        6920.7        7146.6        9000.7   \n",
      "vanessa/arriba         11539.2        5749.8        4356.5        4236.1   \n",
      "vanessa/derecha         3764.5        2786.7        2726.8        4382.8   \n",
      "vanessa/izquierda       3196.1        2101.3        1975.2        1851.4   \n",
      "\n",
      "                   1300-1400 Hz  1400-1500 Hz  1500-1600 Hz  1600-1700 Hz  \\\n",
      "Palabra                                                                     \n",
      "vanessa/abajo            9164.2        8206.6        6493.4        5895.8   \n",
      "vanessa/arriba           4225.5        6558.3        7428.6       12148.2   \n",
      "vanessa/derecha          4244.9        3654.0        2787.2        4002.0   \n",
      "vanessa/izquierda        4000.5        3417.5        3749.8        6503.4   \n",
      "\n",
      "                   1700-1800 Hz  1800-1900 Hz  1900-2000 Hz  \n",
      "Palabra                                                      \n",
      "vanessa/abajo            3472.4        4033.1        3152.4  \n",
      "vanessa/arriba          15466.1       12767.0        7312.9  \n",
      "vanessa/derecha          3707.3        6169.5        4677.7  \n",
      "vanessa/izquierda        7895.3        8361.6        5159.0  \n"
     ]
    }
   ],
   "source": [
    "medias_vanessa = datos_vanessa.groupby(datos_vanessa['Palabra']).mean()\n",
    "std_vanessa = datos_vanessa.groupby(datos_vanessa['Palabra']).std()\n",
    "print(\"Media de las palabras dichas por Vanessa:\\n\")\n",
    "print(medias_vanessa)\n",
    "print(\"\\n\\nDesviación estándar de las palabras dichas por Vanessa:\\n\")\n",
    "print(std_vanessa)"
   ]
  },
  {
   "cell_type": "code",
   "execution_count": 26,
   "metadata": {},
   "outputs": [],
   "source": [
    "datos_vanessa_x = datos_vanessa.iloc[:, :-1]\n",
    "datos_vanessa_y = datos_vanessa['Palabra']\n",
    "\n",
    "le = LabelEncoder()\n",
    "le.fit(datos_vanessa_y)\n",
    "#datos_nombres_y = le.transform(datos_nombres_y)\n",
    "\n",
    "x_train, x_test, y_train, y_test = train_test_split(datos_vanessa_x, datos_vanessa_y)"
   ]
  },
  {
   "cell_type": "code",
   "execution_count": 27,
   "metadata": {},
   "outputs": [],
   "source": [
    "#clf_lr = LinearRegression()\n",
    "#clf_lr.fit(x_train, y_train)\n",
    "#predicted = clf_lr.predict(x_test).astype(int)\n",
    "\n",
    "#clf_svc = SVC()\n",
    "#clf_svc.fit(x_train, y_train)\n",
    "#predicted = clf_svc.predict(x_test)\n",
    "\n",
    "#clf_dt = DecisionTreeClassifier()\n",
    "#clf_dt.fit(x_train, y_train)\n",
    "#predicted = clf_dt.predict(x_test)\n",
    "\n",
    "clf_rf = RandomForestClassifier(n_estimators=numero_estimadores)\n",
    "clf_rf.fit(x_train, y_train)\n",
    "predicted = clf_rf.predict(x_test)"
   ]
  },
  {
   "cell_type": "code",
   "execution_count": 28,
   "metadata": {},
   "outputs": [
    {
     "name": "stdout",
     "output_type": "stream",
     "text": [
      "Precision: 0.89 (+/- 0.13)\n"
     ]
    }
   ],
   "source": [
    "clf_rf = RandomForestClassifier(n_estimators=numero_estimadores)\n",
    "scores = cross_val_score(clf_rf, datos_vanessa_x, datos_vanessa_y, cv=5)\n",
    "print(\"Precision: %0.2f (+/- %0.2f)\" % (scores.mean(), scores.std() * 2))"
   ]
  },
  {
   "cell_type": "code",
   "execution_count": 29,
   "metadata": {},
   "outputs": [
    {
     "name": "stdout",
     "output_type": "stream",
     "text": [
      "                   precision    recall  f1-score   support\n",
      "\n",
      "    vanessa/abajo       1.00      1.00      1.00        31\n",
      "   vanessa/arriba       0.92      1.00      0.96        23\n",
      "  vanessa/derecha       1.00      0.79      0.88        28\n",
      "vanessa/izquierda       0.77      0.94      0.85        18\n",
      "\n",
      "      avg / total       0.94      0.93      0.93       100\n",
      "\n"
     ]
    }
   ],
   "source": [
    "print(classification_report(y_test, predicted))"
   ]
  },
  {
   "cell_type": "code",
   "execution_count": 30,
   "metadata": {},
   "outputs": [
    {
     "name": "stdout",
     "output_type": "stream",
     "text": [
      "[[31  0  0  0]\n",
      " [ 0 23  0  0]\n",
      " [ 0  1 22  5]\n",
      " [ 0  1  0 17]]\n"
     ]
    }
   ],
   "source": [
    "print(confusion_matrix(y_test, predicted))"
   ]
  },
  {
   "cell_type": "markdown",
   "metadata": {},
   "source": [
    "# Guardado de los clasificadores"
   ]
  },
  {
   "cell_type": "code",
   "execution_count": 31,
   "metadata": {},
   "outputs": [],
   "source": [
    "clf_rf_todos = RandomForestClassifier(n_estimators=2000, n_jobs=-1)\n",
    "clf_rf_nombres = RandomForestClassifier(n_estimators=2000, n_jobs=-1)\n",
    "clf_rf_andres = RandomForestClassifier(n_estimators=2000, n_jobs=-1)\n",
    "clf_rf_vanessa = RandomForestClassifier(n_estimators=2000, n_jobs=-1)"
   ]
  },
  {
   "cell_type": "code",
   "execution_count": 32,
   "metadata": {},
   "outputs": [
    {
     "data": {
      "text/plain": [
       "RandomForestClassifier(bootstrap=True, class_weight=None, criterion='gini',\n",
       "            max_depth=None, max_features='auto', max_leaf_nodes=None,\n",
       "            min_impurity_decrease=0.0, min_impurity_split=None,\n",
       "            min_samples_leaf=1, min_samples_split=2,\n",
       "            min_weight_fraction_leaf=0.0, n_estimators=2000, n_jobs=-1,\n",
       "            oob_score=False, random_state=None, verbose=0,\n",
       "            warm_start=False)"
      ]
     },
     "execution_count": 32,
     "metadata": {},
     "output_type": "execute_result"
    }
   ],
   "source": [
    "clf_rf_todos.fit(datos_todos_x, datos_todos_y)\n",
    "clf_rf_nombres.fit(datos_nombres_x, datos_nombres_y)\n",
    "clf_rf_andres.fit(datos_andres_x, datos_andres_y)\n",
    "clf_rf_vanessa.fit(datos_vanessa_x, datos_vanessa_y)"
   ]
  },
  {
   "cell_type": "code",
   "execution_count": 33,
   "metadata": {},
   "outputs": [],
   "source": [
    "with open('grabaciones/clasificadores/clasificador_completo.clf', 'wb') as archivo:\n",
    "    pickle.dump(clf_rf_todos, archivo)\n",
    "with open('grabaciones/clasificadores/clasificador_nombres.clf', 'wb') as archivo:\n",
    "    pickle.dump(clf_rf_nombres, archivo)\n",
    "with open('grabaciones/clasificadores/clasificador_andres.clf', 'wb') as archivo:\n",
    "    pickle.dump(clf_rf_andres, archivo)\n",
    "with open('grabaciones/clasificadores/clasificador_vanessa.clf', 'wb') as archivo:\n",
    "    pickle.dump(clf_rf_vanessa, archivo)"
   ]
  }
 ],
 "metadata": {
  "kernelspec": {
   "display_name": "Python 3",
   "language": "python",
   "name": "python3"
  },
  "language_info": {
   "codemirror_mode": {
    "name": "ipython",
    "version": 3
   },
   "file_extension": ".py",
   "mimetype": "text/x-python",
   "name": "python",
   "nbconvert_exporter": "python",
   "pygments_lexer": "ipython3",
   "version": "3.6.5"
  }
 },
 "nbformat": 4,
 "nbformat_minor": 2
}
